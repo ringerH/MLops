{
 "cells": [
  {
   "cell_type": "code",
   "execution_count": 5,
   "id": "6b7e792b",
   "metadata": {},
   "outputs": [
    {
     "name": "stdout",
     "output_type": "stream",
     "text": [
      "Python 3.9.13\r\n"
     ]
    }
   ],
   "source": [
    "!python -V"
   ]
  },
  {
   "cell_type": "code",
   "execution_count": 18,
   "id": "fa9ebe0a",
   "metadata": {},
   "outputs": [
    {
     "name": "stdout",
     "output_type": "stream",
     "text": [
      "Collecting xgboost\n",
      "  Downloading xgboost-2.1.4-py3-none-manylinux_2_28_x86_64.whl (223.6 MB)\n",
      "\u001b[2K     \u001b[38;2;114;156;31m━━━━━━━━━━━━━━━━━━━━━━━━━━━━━━━━━━━━━━━\u001b[0m \u001b[32m223.6/223.6 MB\u001b[0m \u001b[31m2.9 MB/s\u001b[0m eta \u001b[36m0:00:00\u001b[0mm eta \u001b[36m0:00:01\u001b[0m[36m0:00:01\u001b[0m\n",
      "\u001b[?25hRequirement already satisfied: numpy in /home/codespace/anaconda3/lib/python3.9/site-packages (from xgboost) (1.21.5)\n",
      "Requirement already satisfied: scipy in /home/codespace/anaconda3/lib/python3.9/site-packages (from xgboost) (1.9.1)\n",
      "Collecting nvidia-nccl-cu12\n",
      "  Downloading nvidia_nccl_cu12-2.27.3-py3-none-manylinux2014_x86_64.manylinux_2_17_x86_64.whl (322.4 MB)\n",
      "\u001b[2K     \u001b[38;2;114;156;31m━━━━━━━━━━━━━━━━━━━━━━━━━━━━━━━━━━━━━━━\u001b[0m \u001b[32m322.4/322.4 MB\u001b[0m \u001b[31m1.8 MB/s\u001b[0m eta \u001b[36m0:00:00\u001b[0mm eta \u001b[36m0:00:01\u001b[0m[36m0:00:01\u001b[0m\n",
      "\u001b[?25hInstalling collected packages: nvidia-nccl-cu12, xgboost\n",
      "Successfully installed nvidia-nccl-cu12-2.27.3 xgboost-2.1.4\n"
     ]
    }
   ],
   "source": [
    "!pip install xgboost"
   ]
  },
  {
   "cell_type": "code",
   "execution_count": 6,
   "id": "1b2d2899",
   "metadata": {},
   "outputs": [],
   "source": [
    "import pickle"
   ]
  },
  {
   "cell_type": "code",
   "execution_count": 23,
   "id": "c01550c2",
   "metadata": {},
   "outputs": [],
   "source": [
    "import pandas as pd\n",
    "import numpy as np\n",
    "import sklearn"
   ]
  },
  {
   "cell_type": "code",
   "execution_count": 8,
   "id": "689de438",
   "metadata": {},
   "outputs": [],
   "source": [
    "from sklearn.feature_extraction import DictVectorizer\n",
    "from sklearn.metrics import mean_squared_error"
   ]
  },
  {
   "cell_type": "code",
   "execution_count": 11,
   "id": "8042cca5",
   "metadata": {},
   "outputs": [
    {
     "name": "stderr",
     "output_type": "stream",
     "text": [
      "2025/06/18 14:12:32 INFO mlflow.tracking.fluent: Experiment with name 'nyc-taxi-experiment-orchestration' does not exist. Creating a new experiment.\n"
     ]
    },
    {
     "data": {
      "text/plain": [
       "<Experiment: artifact_location='mlflow-artifacts:/218769213695135116', creation_time=1750255952362, experiment_id='218769213695135116', last_update_time=1750255952362, lifecycle_stage='active', name='nyc-taxi-experiment-orchestration', tags={}>"
      ]
     },
     "execution_count": 11,
     "metadata": {},
     "output_type": "execute_result"
    }
   ],
   "source": [
    "import mlflow\n",
    "\n",
    "mlflow.set_tracking_uri(\"http://localhost:5000\")\n",
    "mlflow.set_experiment(\"nyc-taxi-experiment-orchestration\")"
   ]
  },
  {
   "cell_type": "code",
   "execution_count": 12,
   "id": "dc24ebf8",
   "metadata": {},
   "outputs": [],
   "source": [
    "def read_dataframe(filename):\n",
    "    df = pd.read_parquet(filename)\n",
    "\n",
    "    df['duration'] = df.lpep_dropoff_datetime - df.lpep_pickup_datetime\n",
    "    df.duration = df.duration.apply(lambda td: td.total_seconds() / 60)\n",
    "\n",
    "    df = df[(df.duration >= 1) & (df.duration <= 60)]\n",
    "\n",
    "    categorical = ['PULocationID', 'DOLocationID']\n",
    "    df[categorical] = df[categorical].astype(str)\n",
    "\n",
    "    df['PU_DO'] = df['PULocationID'] + '_' + df['DOLocationID']\n",
    "\n",
    "    return df"
   ]
  },
  {
   "cell_type": "code",
   "execution_count": 14,
   "id": "755c54b2",
   "metadata": {},
   "outputs": [],
   "source": [
    "df_train = read_dataframe('https://d37ci6vzurychx.cloudfront.net/trip-data/green_tripdata_2021-01.parquet')\n",
    "df_val = read_dataframe('https://d37ci6vzurychx.cloudfront.net/trip-data/green_tripdata_2021-02.parquet')"
   ]
  },
  {
   "cell_type": "code",
   "execution_count": 15,
   "id": "51ae113d",
   "metadata": {},
   "outputs": [],
   "source": [
    "categorical = ['PU_DO'] #'PULocationID', 'DOLocationID']\n",
    "numerical = ['trip_distance']\n",
    "\n",
    "dv = DictVectorizer()\n",
    "\n",
    "train_dicts = df_train[categorical + numerical].to_dict(orient='records')\n",
    "X_train = dv.fit_transform(train_dicts)\n",
    "\n",
    "val_dicts = df_val[categorical + numerical].to_dict(orient='records')\n",
    "X_val = dv.transform(val_dicts)"
   ]
  },
  {
   "cell_type": "code",
   "execution_count": 16,
   "id": "f60c8c97",
   "metadata": {},
   "outputs": [],
   "source": [
    "target = 'duration'\n",
    "y_train = df_train[target].values\n",
    "y_val = df_val[target].values"
   ]
  },
  {
   "cell_type": "code",
   "execution_count": 19,
   "id": "7530e6aa",
   "metadata": {},
   "outputs": [],
   "source": [
    "import xgboost as xgb"
   ]
  },
  {
   "cell_type": "code",
   "execution_count": 20,
   "id": "32b25b5a",
   "metadata": {},
   "outputs": [],
   "source": [
    "from pathlib import Path"
   ]
  },
  {
   "cell_type": "code",
   "execution_count": 21,
   "id": "bee7a4fa",
   "metadata": {},
   "outputs": [],
   "source": [
    "models_folder = Path('models')\n",
    "models_folder.mkdir(exist_ok=True)"
   ]
  },
  {
   "cell_type": "code",
   "execution_count": 24,
   "id": "553c36d6",
   "metadata": {},
   "outputs": [
    {
     "name": "stderr",
     "output_type": "stream",
     "text": [
      "/home/codespace/anaconda3/lib/python3.9/site-packages/xgboost/core.py:158: UserWarning: [14:19:40] WARNING: /workspace/src/objective/regression_obj.cu:227: reg:linear is now deprecated in favor of reg:squarederror.\n",
      "  warnings.warn(smsg, UserWarning)\n"
     ]
    },
    {
     "name": "stdout",
     "output_type": "stream",
     "text": [
      "[0]\tvalidation-rmse:11.44482\n",
      "[1]\tvalidation-rmse:10.77202\n",
      "[2]\tvalidation-rmse:10.18363\n",
      "[3]\tvalidation-rmse:9.67396\n",
      "[4]\tvalidation-rmse:9.23166\n",
      "[5]\tvalidation-rmse:8.84808\n",
      "[6]\tvalidation-rmse:8.51883\n",
      "[7]\tvalidation-rmse:8.23597\n",
      "[8]\tvalidation-rmse:7.99320\n",
      "[9]\tvalidation-rmse:7.78709\n",
      "[10]\tvalidation-rmse:7.61022\n",
      "[11]\tvalidation-rmse:7.45952\n",
      "[12]\tvalidation-rmse:7.33049\n",
      "[13]\tvalidation-rmse:7.22098\n",
      "[14]\tvalidation-rmse:7.12713\n",
      "[15]\tvalidation-rmse:7.04752\n",
      "[16]\tvalidation-rmse:6.98005\n",
      "[17]\tvalidation-rmse:6.92232\n",
      "[18]\tvalidation-rmse:6.87112\n",
      "[19]\tvalidation-rmse:6.82740\n",
      "[20]\tvalidation-rmse:6.78995\n",
      "[21]\tvalidation-rmse:6.75792\n",
      "[22]\tvalidation-rmse:6.72994\n",
      "[23]\tvalidation-rmse:6.70547\n",
      "[24]\tvalidation-rmse:6.68390\n",
      "[25]\tvalidation-rmse:6.66421\n",
      "[26]\tvalidation-rmse:6.64806\n",
      "[27]\tvalidation-rmse:6.63280\n",
      "[28]\tvalidation-rmse:6.61924\n",
      "[29]\tvalidation-rmse:6.60773\n",
      "[30]\tvalidation-rmse:6.59777\n",
      "[31]\tvalidation-rmse:6.58875\n",
      "[32]\tvalidation-rmse:6.58107\n",
      "[33]\tvalidation-rmse:6.57217\n",
      "[34]\tvalidation-rmse:6.56557\n",
      "[35]\tvalidation-rmse:6.56003\n",
      "[36]\tvalidation-rmse:6.55392\n",
      "[37]\tvalidation-rmse:6.54924\n",
      "[38]\tvalidation-rmse:6.54536\n",
      "[39]\tvalidation-rmse:6.54187\n",
      "[40]\tvalidation-rmse:6.53873\n",
      "[41]\tvalidation-rmse:6.53518\n",
      "[42]\tvalidation-rmse:6.53287\n",
      "[43]\tvalidation-rmse:6.53048\n",
      "[44]\tvalidation-rmse:6.52858\n",
      "[45]\tvalidation-rmse:6.52703\n",
      "[46]\tvalidation-rmse:6.52566\n",
      "[47]\tvalidation-rmse:6.52419\n",
      "[48]\tvalidation-rmse:6.52323\n",
      "[49]\tvalidation-rmse:6.52265\n"
     ]
    },
    {
     "name": "stderr",
     "output_type": "stream",
     "text": [
      "2025/06/18 14:20:18 WARNING mlflow.models.model: `artifact_path` is deprecated. Please use `name` instead.\n",
      "/home/codespace/anaconda3/lib/python3.9/site-packages/xgboost/core.py:158: UserWarning: [14:20:18] WARNING: /workspace/src/c_api/c_api.cc:1374: Saving model in the UBJSON format as default.  You can use file extension: `json`, `ubj` or `deprecated` to choose between formats.\n",
      "  warnings.warn(smsg, UserWarning)\n",
      "2025/06/18 14:20:23 WARNING mlflow.utils.environment: Encountered an unexpected error while inferring pip requirements (model URI: /tmp/tmpjfn0fmqc/model, flavor: xgboost). Fall back to return ['xgboost==2.1.4']. Set logging level to DEBUG to see the full traceback. \n",
      "\u001b[31m2025/06/18 14:20:23 WARNING mlflow.models.model: Model logged without a signature and input example. Please set `input_example` parameter when logging the model to auto infer the model signature.\u001b[0m\n"
     ]
    },
    {
     "name": "stdout",
     "output_type": "stream",
     "text": [
      "🏃 View run skittish-shad-296 at: http://localhost:5000/#/experiments/218769213695135116/runs/9aa40ca488d84c1c96019db583ef241d\n",
      "🧪 View experiment at: http://localhost:5000/#/experiments/218769213695135116\n"
     ]
    }
   ],
   "source": [
    " with mlflow.start_run():\n",
    "    train = xgb.DMatrix(X_train, label=y_train)\n",
    "    valid = xgb.DMatrix(X_val, label=y_val)\n",
    "\n",
    "    best_params = {\n",
    "        'learning_rate': 0.09585355369315604,\n",
    "        'max_depth': 30,\n",
    "        'min_child_weight': 1.060597050922164,\n",
    "        'objective': 'reg:linear',\n",
    "        'reg_alpha': 0.018060244040060163,\n",
    "        'reg_lambda': 0.011658731377413597,\n",
    "        'seed': 42\n",
    "    }\n",
    "\n",
    "    mlflow.log_params(best_params)\n",
    "\n",
    "    booster = xgb.train(\n",
    "        params=best_params,\n",
    "        dtrain=train,\n",
    "        num_boost_round=50,\n",
    "        evals=[(valid, 'validation')],\n",
    "        early_stopping_rounds=50\n",
    "    )\n",
    "\n",
    "    y_pred = booster.predict(valid)\n",
    "    rmse = np.sqrt(mean_squared_error(y_val, y_pred))\n",
    "    mlflow.log_metric(\"rmse\", rmse)\n",
    "\n",
    "    with open(\"models/preprocessor.b\", \"wb\") as f_out:\n",
    "        pickle.dump(dv, f_out)\n",
    "    mlflow.log_artifact(\"models/preprocessor.b\", artifact_path=\"preprocessor\")\n",
    "\n",
    "    mlflow.xgboost.log_model(booster, artifact_path=\"models_mlflow\")"
   ]
  },
  {
   "cell_type": "code",
   "execution_count": null,
   "id": "b0b8987b",
   "metadata": {},
   "outputs": [],
   "source": []
  }
 ],
 "metadata": {
  "kernelspec": {
   "display_name": "Python 3 (ipykernel)",
   "language": "python",
   "name": "python3"
  },
  "language_info": {
   "codemirror_mode": {
    "name": "ipython",
    "version": 3
   },
   "file_extension": ".py",
   "mimetype": "text/x-python",
   "name": "python",
   "nbconvert_exporter": "python",
   "pygments_lexer": "ipython3",
   "version": "3.9.13"
  }
 },
 "nbformat": 4,
 "nbformat_minor": 5
}
